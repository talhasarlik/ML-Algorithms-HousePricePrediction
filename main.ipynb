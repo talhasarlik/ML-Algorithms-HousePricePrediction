{
  "nbformat": 4,
  "nbformat_minor": 0,
  "metadata": {
    "colab": {
      "provenance": []
    },
    "kernelspec": {
      "name": "python3",
      "display_name": "Python 3"
    },
    "language_info": {
      "name": "python"
    }
  },
  "cells": [
    {
      "cell_type": "code",
      "source": [
        "# Check the versions of libraries\n",
        "# Python version\n",
        "import sys\n",
        "print('Python: {}'.format(sys.version))\n",
        "# scipy\n",
        "import scipy\n",
        "print('scipy: {}'.format(scipy.__version__))\n",
        "# numpy\n",
        "import numpy as np\n",
        "print('numpy: {}'.format(np.__version__))\n",
        "# matplotlib\n",
        "import matplotlib\n",
        "print('matplotlib: {}'.format(matplotlib.__version__))\n",
        "# pandas\n",
        "import pandas as pd\n",
        "print('pandas: {}'.format(pd.__version__))\n",
        "# scikit-learn\n",
        "import sklearn\n",
        "print('sklearn: {}'.format(sklearn.__version__))"
      ],
      "metadata": {
        "id": "EYymGbi_8wU_"
      },
      "execution_count": null,
      "outputs": []
    },
    {
      "cell_type": "code",
      "source": [
        "# Load libraries\n",
        "from pandas import read_csv\n",
        "from pandas.plotting import scatter_matrix\n",
        "from matplotlib import pyplot\n",
        "from sklearn.model_selection import train_test_split\n",
        "from sklearn.model_selection import cross_val_score\n",
        "from sklearn.model_selection import StratifiedKFold\n",
        "from sklearn.metrics import mean_absolute_error\n",
        "from sklearn.metrics import mean_squared_error\n",
        "from sklearn.metrics import r2_score\n",
        "from sklearn.linear_model import LinearRegression\n",
        "from sklearn.tree import DecisionTreeRegressor\n",
        "from sklearn.neighbors import KNeighborsRegressor\n",
        "from sklearn.ensemble import RandomForestRegressor\n",
        "from sklearn.svm import SVR\n",
        "from sklearn.preprocessing import PolynomialFeatures"
      ],
      "metadata": {
        "id": "ez8Ex0EM9gg2"
      },
      "execution_count": null,
      "outputs": []
    },
    {
      "cell_type": "code",
      "execution_count": null,
      "metadata": {
        "id": "IAJ7rADo0Hb6"
      },
      "outputs": [],
      "source": [
        "from sklearn.datasets import load_boston\n",
        "boston = load_boston()\n",
        "dataset = pd.DataFrame(boston.data)\n",
        "dataset.columns = boston.feature_names"
      ]
    },
    {
      "cell_type": "code",
      "source": [
        "dataset"
      ],
      "metadata": {
        "id": "mSlVykCZ-aQQ"
      },
      "execution_count": null,
      "outputs": []
    },
    {
      "cell_type": "code",
      "source": [
        "# descriptions\n",
        "print(dataset.describe())"
      ],
      "metadata": {
        "id": "NWArvuIwB5fz"
      },
      "execution_count": null,
      "outputs": []
    },
    {
      "cell_type": "code",
      "source": [
        "# box and whisker plots\n",
        "pyplot.rcParams[\"figure.figsize\"] = (25,8)\n",
        "dataset.plot(kind='box', subplots=True, sharex=False, sharey=False)\n",
        "pyplot.show()"
      ],
      "metadata": {
        "id": "Ufs4Zqsf9brx"
      },
      "execution_count": null,
      "outputs": []
    },
    {
      "cell_type": "code",
      "source": [
        "# histograms\n",
        "pyplot.rcParams[\"figure.figsize\"] = (25,10)\n",
        "dataset.hist()\n",
        "pyplot.show()"
      ],
      "metadata": {
        "id": "FUCK-K7B9buW"
      },
      "execution_count": null,
      "outputs": []
    },
    {
      "cell_type": "code",
      "source": [
        "# scatter plot matrix\n",
        "pyplot.rcParams[\"figure.figsize\"] = (25,20)\n",
        "scatter_matrix(dataset)\n",
        "pyplot.show()"
      ],
      "metadata": {
        "id": "tC2Nu0YQ9bxw"
      },
      "execution_count": null,
      "outputs": []
    },
    {
      "cell_type": "code",
      "source": [
        "array = dataset.values\n",
        "X = array[:,0:-1]\n",
        "y = array[:,-1]\n",
        "X_train, X_test, y_train, y_test = train_test_split(X, y, test_size=0.20, random_state=1)"
      ],
      "metadata": {
        "id": "ZCxSbVBkELgY"
      },
      "execution_count": null,
      "outputs": []
    },
    {
      "cell_type": "code",
      "source": [
        "# evaluate each model in turn\n",
        "\n",
        "#Linear Regression\n",
        "regressor_lin = LinearRegression()\n",
        "regressor_lin.fit(X_train, y_train)\n",
        "y_pred_lin = regressor_lin.predict(X_test)\n",
        "\n",
        "#Polynomial Regression\n",
        "poly_reg = PolynomialFeatures(degree = 2)\n",
        "X_poly = poly_reg.fit_transform(X_train)\n",
        "regressor_poly = LinearRegression()\n",
        "regressor_poly.fit(X_poly, y_train)\n",
        "y_pred_poly=regressor_poly.predict(poly_reg.transform(X_test))\n",
        "\n",
        "#SVR\n",
        "regressor_svr = SVR(kernel = 'rbf')\n",
        "regressor_svr.fit(X_train, y_train)\n",
        "y_pred_svr = regressor_svr.predict(X_test)\n",
        "\n",
        "#KNN\n",
        "regressor_knn = KNeighborsRegressor(n_neighbors=5)\n",
        "regressor_knn.fit(X_train, y_train)\n",
        "y_pred_knn = regressor_knn.predict(X_test)\n",
        "\n",
        "#Decision Tree\n",
        "regressor_tree = DecisionTreeRegressor()\n",
        "regressor_tree.fit(X_train, y_train)\n",
        "y_pred_tree = regressor_tree.predict(X_test)\n",
        "\n",
        "#Random Forest\n",
        "regressor_forest = RandomForestRegressor(n_estimators = 10)\n",
        "regressor_forest.fit(X_train, y_train)\n",
        "y_pred_forest = regressor_forest.predict(X_test)"
      ],
      "metadata": {
        "id": "35q5h1GrE1fW"
      },
      "execution_count": null,
      "outputs": []
    },
    {
      "cell_type": "code",
      "source": [
        "#Select Best Model\n",
        "preds=[y_pred_lin, y_pred_poly, y_pred_svr, y_pred_knn, y_pred_tree, y_pred_forest]\n",
        "names=['lin', 'poly', 'svr', 'knn', 'tree', 'forest']\n",
        "results=[]\n",
        "\n",
        "for i in preds:\n",
        "  r2 = r2_score(y_test, i)\n",
        "  results.append(r2)\n",
        "\n",
        "res = \"\\n\".join(\"{} {}\".format(x, y) for x, y in zip(names, results))\n",
        "print(res)"
      ],
      "metadata": {
        "id": "D6zruit7HCB3"
      },
      "execution_count": null,
      "outputs": []
    },
    {
      "cell_type": "code",
      "source": [
        "# Evaluate predictions\n",
        "print(mean_absolute_error(y_test, y_pred_forest))\n",
        "print(mean_squared_error(y_test, y_pred_forest))\n",
        "print(r2_score(y_test, y_pred_forest))"
      ],
      "metadata": {
        "id": "g3eHJZNrMaV-"
      },
      "execution_count": null,
      "outputs": []
    }
  ]
}